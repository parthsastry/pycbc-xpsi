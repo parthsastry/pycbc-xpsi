{
 "cells": [
  {
   "cell_type": "code",
   "execution_count": 1,
   "metadata": {},
   "outputs": [],
   "source": [
    "import numpy\n",
    "from matplotlib import pyplot\n",
    "import logging\n",
    "\n",
    "import pycbc\n",
    "pycbc.init_logging(True)\n",
    "from pycbc.inference import models\n",
    "from pycbc.inference.models import BaseModel\n",
    "from pycbc.workflow import WorkflowConfigParser"
   ]
  },
  {
   "cell_type": "code",
   "execution_count": 2,
   "metadata": {},
   "outputs": [
    {
     "name": "stdout",
     "output_type": "stream",
     "text": [
      "/=============================================\\\n",
      "| X-PSI: X-ray Pulse Simulation and Inference |\n",
      "|---------------------------------------------|\n",
      "|                Version: 2.1.0               |\n",
      "|---------------------------------------------|\n",
      "|      https://xpsi-group.github.io/xpsi      |\n",
      "\\=============================================/\n",
      "\n",
      "Imported GetDist version: 1.4.5\n",
      "Imported nestcheck version: 0.2.1\n"
     ]
    }
   ],
   "source": [
    "import xpsi\n",
    "import model"
   ]
  },
  {
   "cell_type": "code",
   "execution_count": 5,
   "metadata": {},
   "outputs": [
    {
     "name": "stderr",
     "output_type": "stream",
     "text": [
      "2024-02-29T16:06:42.983-05:00 Setting up priors for each parameter\n",
      "2024-02-29T16:06:42.984-05:00 Renormalizing distribution for constraints\n"
     ]
    },
    {
     "ename": "IndexError",
     "evalue": "only integers, slices (`:`), ellipsis (`...`), numpy.newaxis (`None`) and integer or boolean arrays are valid indices",
     "output_type": "error",
     "traceback": [
      "\u001b[0;31m---------------------------------------------------------------------------\u001b[0m",
      "\u001b[0;31mIndexError\u001b[0m                                Traceback (most recent call last)",
      "Cell \u001b[0;32mIn[5], line 2\u001b[0m\n\u001b[1;32m      1\u001b[0m cp \u001b[38;5;241m=\u001b[39m WorkflowConfigParser([\u001b[38;5;124m'\u001b[39m\u001b[38;5;124mconfigs/j0030stu-prior.ini\u001b[39m\u001b[38;5;124m'\u001b[39m, \u001b[38;5;124m'\u001b[39m\u001b[38;5;124mconfigs/j0030stu-model.ini\u001b[39m\u001b[38;5;124m'\u001b[39m])\n\u001b[0;32m----> 2\u001b[0m STU_Model \u001b[38;5;241m=\u001b[39m \u001b[43mmodel\u001b[49m\u001b[38;5;241;43m.\u001b[39;49m\u001b[43mXPSIModel\u001b[49m\u001b[38;5;241;43m.\u001b[39;49m\u001b[43mfrom_config\u001b[49m\u001b[43m(\u001b[49m\u001b[43mcp\u001b[49m\u001b[43m)\u001b[49m\n",
      "File \u001b[0;32m~/Desktop/Work/NICER_GW/pycbc-xpsi/plugin-J0030/ST_U/model.py:107\u001b[0m, in \u001b[0;36mXPSIModel.from_config\u001b[0;34m(cls, cp, **kwargs)\u001b[0m\n\u001b[1;32m    104\u001b[0m \u001b[38;5;129m@classmethod\u001b[39m\n\u001b[1;32m    105\u001b[0m \u001b[38;5;28;01mdef\u001b[39;00m \u001b[38;5;21mfrom_config\u001b[39m(\u001b[38;5;28mcls\u001b[39m, cp, \u001b[38;5;241m*\u001b[39m\u001b[38;5;241m*\u001b[39mkwargs):\n\u001b[1;32m    106\u001b[0m     \u001b[38;5;66;03m# get the standard init args\u001b[39;00m\n\u001b[0;32m--> 107\u001b[0m     args \u001b[38;5;241m=\u001b[39m \u001b[38;5;28;43mcls\u001b[39;49m\u001b[38;5;241;43m.\u001b[39;49m\u001b[43m_init_args_from_config\u001b[49m\u001b[43m(\u001b[49m\u001b[43mcp\u001b[49m\u001b[43m)\u001b[49m\n\u001b[1;32m    108\u001b[0m     \u001b[38;5;66;03m# get what instruments to analyze\u001b[39;00m\n\u001b[1;32m    109\u001b[0m     section \u001b[38;5;241m=\u001b[39m \u001b[38;5;124m'\u001b[39m\u001b[38;5;124mmodel\u001b[39m\u001b[38;5;124m'\u001b[39m\n",
      "File \u001b[0;32m~/miniconda3/envs/xpsi_py3/lib/python3.11/site-packages/pycbc/inference/models/base.py:748\u001b[0m, in \u001b[0;36mBaseModel._init_args_from_config\u001b[0;34m(cls, cp)\u001b[0m\n\u001b[1;32m    744\u001b[0m variable_params, static_params \u001b[38;5;241m=\u001b[39m distributions\u001b[38;5;241m.\u001b[39mread_params_from_config(\n\u001b[1;32m    745\u001b[0m     cp, prior_section\u001b[38;5;241m=\u001b[39mprior_section, vargs_section\u001b[38;5;241m=\u001b[39mvparams_section,\n\u001b[1;32m    746\u001b[0m     sargs_section\u001b[38;5;241m=\u001b[39msparams_section)\n\u001b[1;32m    747\u001b[0m \u001b[38;5;66;03m# get prior\u001b[39;00m\n\u001b[0;32m--> 748\u001b[0m prior \u001b[38;5;241m=\u001b[39m \u001b[38;5;28;43mcls\u001b[39;49m\u001b[38;5;241;43m.\u001b[39;49m\u001b[43mprior_from_config\u001b[49m\u001b[43m(\u001b[49m\n\u001b[1;32m    749\u001b[0m \u001b[43m    \u001b[49m\u001b[43mcp\u001b[49m\u001b[43m,\u001b[49m\u001b[43m \u001b[49m\u001b[43mvariable_params\u001b[49m\u001b[43m,\u001b[49m\u001b[43m \u001b[49m\u001b[43mstatic_params\u001b[49m\u001b[43m,\u001b[49m\u001b[43m \u001b[49m\u001b[43mprior_section\u001b[49m\u001b[43m,\u001b[49m\n\u001b[1;32m    750\u001b[0m \u001b[43m    \u001b[49m\u001b[43mconstraint_section\u001b[49m\u001b[43m)\u001b[49m\n\u001b[1;32m    751\u001b[0m args \u001b[38;5;241m=\u001b[39m {\u001b[38;5;124m'\u001b[39m\u001b[38;5;124mvariable_params\u001b[39m\u001b[38;5;124m'\u001b[39m: variable_params,\n\u001b[1;32m    752\u001b[0m         \u001b[38;5;124m'\u001b[39m\u001b[38;5;124mstatic_params\u001b[39m\u001b[38;5;124m'\u001b[39m: static_params,\n\u001b[1;32m    753\u001b[0m         \u001b[38;5;124m'\u001b[39m\u001b[38;5;124mprior\u001b[39m\u001b[38;5;124m'\u001b[39m: prior}\n\u001b[1;32m    754\u001b[0m \u001b[38;5;66;03m# try to load sampling transforms\u001b[39;00m\n",
      "File \u001b[0;32m~/miniconda3/envs/xpsi_py3/lib/python3.11/site-packages/pycbc/inference/models/base.py:709\u001b[0m, in \u001b[0;36mBaseModel.prior_from_config\u001b[0;34m(cp, variable_params, static_params, prior_section, constraint_section)\u001b[0m\n\u001b[1;32m    706\u001b[0m dists \u001b[38;5;241m=\u001b[39m distributions\u001b[38;5;241m.\u001b[39mread_distributions_from_config(cp, prior_section)\n\u001b[1;32m    707\u001b[0m constraints \u001b[38;5;241m=\u001b[39m distributions\u001b[38;5;241m.\u001b[39mread_constraints_from_config(\n\u001b[1;32m    708\u001b[0m     cp, constraint_section, static_args\u001b[38;5;241m=\u001b[39mstatic_params)\n\u001b[0;32m--> 709\u001b[0m \u001b[38;5;28;01mreturn\u001b[39;00m \u001b[43mdistributions\u001b[49m\u001b[38;5;241;43m.\u001b[39;49m\u001b[43mJointDistribution\u001b[49m\u001b[43m(\u001b[49m\u001b[43mvariable_params\u001b[49m\u001b[43m,\u001b[49m\u001b[43m \u001b[49m\u001b[38;5;241;43m*\u001b[39;49m\u001b[43mdists\u001b[49m\u001b[43m,\u001b[49m\n\u001b[1;32m    710\u001b[0m \u001b[43m                                       \u001b[49m\u001b[43mconstraints\u001b[49m\u001b[38;5;241;43m=\u001b[39;49m\u001b[43mconstraints\u001b[49m\u001b[43m)\u001b[49m\n",
      "File \u001b[0;32m~/miniconda3/envs/xpsi_py3/lib/python3.11/site-packages/pycbc/distributions/joint.py:121\u001b[0m, in \u001b[0;36mJointDistribution.__init__\u001b[0;34m(self, variable_args, *distributions, **kwargs)\u001b[0m\n\u001b[1;32m    119\u001b[0m     draw \u001b[38;5;241m=\u001b[39m dist\u001b[38;5;241m.\u001b[39mrvs(n_test_samples)\n\u001b[1;32m    120\u001b[0m     \u001b[38;5;28;01mfor\u001b[39;00m param \u001b[38;5;129;01min\u001b[39;00m dist\u001b[38;5;241m.\u001b[39mparams:\n\u001b[0;32m--> 121\u001b[0m         samples[param] \u001b[38;5;241m=\u001b[39m \u001b[43mdraw\u001b[49m\u001b[43m[\u001b[49m\u001b[43mparam\u001b[49m\u001b[43m]\u001b[49m\n\u001b[1;32m    122\u001b[0m samples \u001b[38;5;241m=\u001b[39m FieldArray\u001b[38;5;241m.\u001b[39mfrom_kwargs(\u001b[38;5;241m*\u001b[39m\u001b[38;5;241m*\u001b[39msamples)\n\u001b[1;32m    124\u001b[0m \u001b[38;5;66;03m# evaluate constraints\u001b[39;00m\n",
      "\u001b[0;31mIndexError\u001b[0m: only integers, slices (`:`), ellipsis (`...`), numpy.newaxis (`None`) and integer or boolean arrays are valid indices"
     ]
    }
   ],
   "source": [
    "cp = WorkflowConfigParser(['configs/j0030stu-prior.ini', 'configs/j0030stu-model.ini'])\n",
    "STU_Model = model.XPSIModel.from_config(cp)"
   ]
  },
  {
   "cell_type": "code",
   "execution_count": 4,
   "metadata": {},
   "outputs": [
    {
     "data": {
      "text/plain": [
       "'2.2.2'"
      ]
     },
     "execution_count": 4,
     "metadata": {},
     "output_type": "execute_result"
    }
   ],
   "source": [
    "pycbc.__version__"
   ]
  },
  {
   "cell_type": "code",
   "execution_count": 6,
   "metadata": {},
   "outputs": [],
   "source": [
    "from pycbc.distributions import External"
   ]
  },
  {
   "cell_type": "code",
   "execution_count": 7,
   "metadata": {},
   "outputs": [],
   "source": [
    "params = ['beta']"
   ]
  },
  {
   "cell_type": "code",
   "execution_count": 8,
   "metadata": {},
   "outputs": [],
   "source": [
    "def logpdf(x=None, y=None):\n",
    "    return numpy.ones(len(x))"
   ]
  },
  {
   "cell_type": "code",
   "execution_count": 9,
   "metadata": {},
   "outputs": [],
   "source": [
    "def cdfinv(**kwargs):\n",
    "    return kwargs"
   ]
  },
  {
   "cell_type": "code",
   "execution_count": 11,
   "metadata": {},
   "outputs": [],
   "source": [
    "e = External(params, logpdf, cdfinv)"
   ]
  },
  {
   "cell_type": "code",
   "execution_count": 14,
   "metadata": {},
   "outputs": [],
   "source": [
    "samples = {param: numpy.random.uniform(0, 1, size=10)\n",
    "            for param in params}"
   ]
  },
  {
   "cell_type": "code",
   "execution_count": null,
   "metadata": {},
   "outputs": [],
   "source": []
  }
 ],
 "metadata": {
  "kernelspec": {
   "display_name": "xpsi_py3",
   "language": "python",
   "name": "python3"
  },
  "language_info": {
   "codemirror_mode": {
    "name": "ipython",
    "version": 3
   },
   "file_extension": ".py",
   "mimetype": "text/x-python",
   "name": "python",
   "nbconvert_exporter": "python",
   "pygments_lexer": "ipython3",
   "version": "3.11.6"
  }
 },
 "nbformat": 4,
 "nbformat_minor": 2
}
